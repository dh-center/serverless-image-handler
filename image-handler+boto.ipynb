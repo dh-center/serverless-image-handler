{
 "cells": [
  {
   "cell_type": "code",
   "execution_count": null,
   "metadata": {},
   "outputs": [],
   "source": [
    "import json\n",
    "import base64\n",
    "from requests_toolbelt.multipart import decoder\n",
    "import re\n",
    "from base64 import b64encode as enc64\n",
    "from base64 import b64decode as dec64\n",
    "import PIL\n",
    "from PIL import Image\n",
    "import io\n",
    "import boto3\n",
    "\n",
    "# Парсер для form-data\n",
    "def get_field_name(content_disposition):\n",
    "    parts = content_disposition.split(';')\n",
    "    for part in parts:\n",
    "        part_stripped = part.strip()\n",
    "        search_result = re.search(\"^name=\\\"(.*)\\\"$\", part_stripped)\n",
    "        \n",
    "        if search_result:\n",
    "            return search_result.group(1)\n",
    "\n",
    "# Функция, которая декодирует байты\n",
    "def encode_file(file):\n",
    "    return base64.b64encode(file)\n",
    "\n",
    "def handler(event, context):\n",
    "    # aws_access_key_id == \"m5zYttENO7OmoLKbTFJy\"\n",
    "    # aws_secret_access_key == \"ReN4DyzoVOUzI4OU6UGEQiKPBEisZhbn3cz997JH\" \n",
    "    \n",
    "    body = event['body']\n",
    "    content_type = event['headers']['Content-Type']\n",
    "    decoded_body = base64.b64decode(body)\n",
    "        \n",
    "                                \n",
    "    for part in decoder.MultipartDecoder(decoded_body, content_type).parts: \n",
    "        content_disposition = part.headers[b'Content-Disposition'].decode('utf-8');\n",
    "        field_name = get_field_name(content_disposition)\n",
    "        file = part.content\n",
    "         \n",
    "    image = encode_file(file)\n",
    "\n",
    "    session = boto3.session.Session()\n",
    "    s3 = session.client(\n",
    "            service_name='s3',\n",
    "            endpoint_url='https://storage.yandexcloud.net',\n",
    "            aws_access_key_id = \"KLoEu90zbSgVz4KzQCjB\",\n",
    "            aws_secret_access_key = \"fQs4-sMM211NqPMn3uSXoHnz3E38JeCoPaEy5D_P\"\n",
    "\n",
    "    )       \n",
    "    s3.put_object(Bucket='image-handler-bucket', Key='sample2', Body='TEST', StorageClass='STANDARD')\n",
    "    # some_binary_data = part.content\n",
    "    some_binary_data = image\n",
    "    s3 = boto3.resource('s3')\n",
    "    object = s3.Object('image-handler-bucket', 'sample2.jpeg')\n",
    "    object.put(Body = some_binary_data)\n",
    "\n",
    "    # достаем файл из бакета\n",
    "    get_object_response = s3.get_object(Bucket='image-handler-bucket',Key='sample2')#в скобках имя бакета и имя файла, в бакете\n",
    "    print( get_object_response['Body'].read())\n",
    "    \n",
    "    return {\n",
    "        'statusCode': 200,\n",
    "        'headers': {\n",
    "        'content-type': 'image/png'\n",
    "        },\n",
    "        'body': image.decode('utf-8'),\n",
    "        'isBase64Encoded': True\n",
    "        }"
   ]
  },
  {
   "cell_type": "code",
   "execution_count": null,
   "metadata": {},
   "outputs": [],
   "source": [
    "Credentials:\n",
    "aws_access_key_id = KLoEu90zbSgVz4KzQCjB\n",
    "aws_secret_access_key = fQs4-sMM211NqPMn3uSXoHnz3E38JeCoPaEy5D_P"
   ]
  },
  {
   "cell_type": "code",
   "execution_count": null,
   "metadata": {},
   "outputs": [],
   "source": []
  }
 ],
 "metadata": {
  "kernelspec": {
   "display_name": "Python 3",
   "language": "python",
   "name": "python3"
  },
  "language_info": {
   "codemirror_mode": {
    "name": "ipython",
    "version": 3
   },
   "file_extension": ".py",
   "mimetype": "text/x-python",
   "name": "python",
   "nbconvert_exporter": "python",
   "pygments_lexer": "ipython3",
   "version": "3.8.3"
  }
 },
 "nbformat": 4,
 "nbformat_minor": 4
}
