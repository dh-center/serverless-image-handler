{
 "cells": [
  {
   "cell_type": "markdown",
   "metadata": {},
   "source": [
    "Code from postman to get body"
   ]
  },
  {
   "cell_type": "markdown",
   "metadata": {},
   "source": [
    "Python - Requests"
   ]
  },
  {
   "cell_type": "code",
   "execution_count": 3,
   "metadata": {},
   "outputs": [
    {
     "name": "stdout",
     "output_type": "stream",
     "text": [
      "{\"errorMessage\": \"Unable to locate credentials\", \"errorType\": \"NoCredentialsError\", \"stackTrace\": [\"  File \\\"/function/runtime/runtime.py\\\", line 156, in handle_event\\n    result = h(r.event, r.context)\\n\", \"  File \\\"/function/code/main.py\\\", line 31, in handler\\n    s3.put_object(Bucket='image-handler-baket', Key='sample', Body='TEST', StorageClass='STANDARD')\\n\", \"  File \\\"/function/code/botocore/client.py\\\", line 357, in _api_call\\n    return self._make_api_call(operation_name, kwargs)\\n\", \"  File \\\"/function/code/botocore/client.py\\\", line 663, in _make_api_call\\n    operation_model, request_dict, request_context)\\n\", \"  File \\\"/function/code/botocore/client.py\\\", line 682, in _make_request\\n    return self._endpoint.make_request(operation_model, request_dict)\\n\", \"  File \\\"/function/code/botocore/endpoint.py\\\", line 102, in make_request\\n    return self._send_request(request_dict, operation_model)\\n\", \"  File \\\"/function/code/botocore/endpoint.py\\\", line 132, in _send_request\\n    request = self.create_request(request_dict, operation_model)\\n\", \"  File \\\"/function/code/botocore/endpoint.py\\\", line 116, in create_request\\n    operation_name=operation_model.name)\\n\", \"  File \\\"/function/code/botocore/hooks.py\\\", line 356, in emit\\n    return self._emitter.emit(aliased_event_name, **kwargs)\\n\", \"  File \\\"/function/code/botocore/hooks.py\\\", line 228, in emit\\n    return self._emit(event_name, kwargs)\\n\", \"  File \\\"/function/code/botocore/hooks.py\\\", line 211, in _emit\\n    response = handler(**kwargs)\\n\", \"  File \\\"/function/code/botocore/signers.py\\\", line 90, in handler\\n    return self.sign(operation_name, request)\\n\", \"  File \\\"/function/code/botocore/signers.py\\\", line 162, in sign\\n    auth.add_auth(request)\\n\", \"  File \\\"/function/code/botocore/auth.py\\\", line 357, in add_auth\\n    raise NoCredentialsError\\n\"]}\n"
     ]
    }
   ],
   "source": [
    "import requests\n",
    "\n",
    "url = \"https://functions.yandexcloud.net/d4eg7d59tveh10bg58g0?image\"\n",
    "\n",
    "payload={}\n",
    "files=[\n",
    "  ('image',('spbo.png',open('photo_2020-12-18_15-12-32.jpg','rb'),'image/png'))\n",
    "]\n",
    "headers = {}\n",
    "\n",
    "response = requests.request(\"POST\", url, headers=headers, data=payload, files=files)\n",
    "\n",
    "print(response.text)\n"
   ]
  },
  {
   "cell_type": "markdown",
   "metadata": {},
   "source": [
    "Python - http.client"
   ]
  },
  {
   "cell_type": "code",
   "execution_count": 5,
   "metadata": {},
   "outputs": [
    {
     "name": "stdout",
     "output_type": "stream",
     "text": [
      "{\"errorMessage\": \"Unable to locate credentials\", \"errorType\": \"NoCredentialsError\", \"stackTrace\": [\"  File \\\"/function/runtime/runtime.py\\\", line 156, in handle_event\\n    result = h(r.event, r.context)\\n\", \"  File \\\"/function/code/main.py\\\", line 31, in handler\\n    s3.put_object(Bucket='image-handler-baket', Key='sample', Body='TEST', StorageClass='STANDARD')\\n\", \"  File \\\"/function/code/botocore/client.py\\\", line 357, in _api_call\\n    return self._make_api_call(operation_name, kwargs)\\n\", \"  File \\\"/function/code/botocore/client.py\\\", line 663, in _make_api_call\\n    operation_model, request_dict, request_context)\\n\", \"  File \\\"/function/code/botocore/client.py\\\", line 682, in _make_request\\n    return self._endpoint.make_request(operation_model, request_dict)\\n\", \"  File \\\"/function/code/botocore/endpoint.py\\\", line 102, in make_request\\n    return self._send_request(request_dict, operation_model)\\n\", \"  File \\\"/function/code/botocore/endpoint.py\\\", line 132, in _send_request\\n    request = self.create_request(request_dict, operation_model)\\n\", \"  File \\\"/function/code/botocore/endpoint.py\\\", line 116, in create_request\\n    operation_name=operation_model.name)\\n\", \"  File \\\"/function/code/botocore/hooks.py\\\", line 356, in emit\\n    return self._emitter.emit(aliased_event_name, **kwargs)\\n\", \"  File \\\"/function/code/botocore/hooks.py\\\", line 228, in emit\\n    return self._emit(event_name, kwargs)\\n\", \"  File \\\"/function/code/botocore/hooks.py\\\", line 211, in _emit\\n    response = handler(**kwargs)\\n\", \"  File \\\"/function/code/botocore/signers.py\\\", line 90, in handler\\n    return self.sign(operation_name, request)\\n\", \"  File \\\"/function/code/botocore/signers.py\\\", line 162, in sign\\n    auth.add_auth(request)\\n\", \"  File \\\"/function/code/botocore/auth.py\\\", line 357, in add_auth\\n    raise NoCredentialsError\\n\"]}\n"
     ]
    }
   ],
   "source": [
    "import http.client\n",
    "import mimetypes\n",
    "from codecs import encode\n",
    "\n",
    "conn = http.client.HTTPSConnection(\"functions.yandexcloud.net\")\n",
    "dataList = []\n",
    "boundary = 'wL36Yn8afVp8Ag7AmP8qZ0SA4n1v9T'\n",
    "dataList.append(encode('--' + boundary))\n",
    "dataList.append(encode('Content-Disposition: form-data; name=image; filename={0}'.format('/C:/Users/yulya/OneDrive/Документы/Бадминтон/spbo.png')))\n",
    "\n",
    "fileType = mimetypes.guess_type('/C:/Users/yulya/OneDrive/Документы/Бадминтон/spbo.png')[0] or 'application/octet-stream'\n",
    "dataList.append(encode('Content-Type: {}'.format(fileType)))\n",
    "dataList.append(encode(''))\n",
    "\n",
    "with open('photo_2020-12-18_15-12-32.jpg', 'rb') as f:\n",
    "    dataList.append(f.read())\n",
    "dataList.append(encode('--'+boundary+'--'))\n",
    "dataList.append(encode(''))\n",
    "body = b'\\r\\n'.join(dataList)\n",
    "payload = body\n",
    "headers = {\n",
    "   'Content-type': 'multipart/form-data; boundary={}'.format(boundary) \n",
    "}\n",
    "conn.request(\"POST\", \"/d4eg7d59tveh10bg58g0?image=null\", payload, headers)\n",
    "res = conn.getresponse()\n",
    "data = res.read()\n",
    "print(data.decode(\"utf-8\"))"
   ]
  },
  {
   "cell_type": "markdown",
   "metadata": {},
   "source": [
    "HTTP"
   ]
  },
  {
   "cell_type": "code",
   "execution_count": 6,
   "metadata": {},
   "outputs": [
    {
     "ename": "SyntaxError",
     "evalue": "invalid syntax (<ipython-input-6-4e99910aedf0>, line 1)",
     "output_type": "error",
     "traceback": [
      "\u001b[0;36m  File \u001b[0;32m\"<ipython-input-6-4e99910aedf0>\"\u001b[0;36m, line \u001b[0;32m1\u001b[0m\n\u001b[0;31m    POST /d4eg7d59tveh10bg58g0?image=null HTTP/1.1\u001b[0m\n\u001b[0m                              ^\u001b[0m\n\u001b[0;31mSyntaxError\u001b[0m\u001b[0;31m:\u001b[0m invalid syntax\n"
     ]
    }
   ],
   "source": [
    "POST /d4eg7d59tveh10bg58g0?image=null HTTP/1.1\n",
    "Host: functions.yandexcloud.net\n",
    "Content-Length: 219\n",
    "Content-Type: multipart/form-data; boundary=----WebKitFormBoundary7MA4YWxkTrZu0gW\n",
    "\n",
    "----WebKitFormBoundary7MA4YWxkTrZu0gW\n",
    "Content-Disposition: form-data; name=\"image\"; filename=\"photo_2020-12-18_15-12-32.jpg\"\n",
    "Content-Type: image/png\n",
    "\n",
    "(data)\n",
    "----WebKitFormBoundary7MA4YWxkTrZu0gW\n"
   ]
  },
  {
   "cell_type": "code",
   "execution_count": null,
   "metadata": {},
   "outputs": [],
   "source": []
  }
 ],
 "metadata": {
  "kernelspec": {
   "display_name": "Python 3",
   "language": "python",
   "name": "python3"
  },
  "language_info": {
   "codemirror_mode": {
    "name": "ipython",
    "version": 3
   },
   "file_extension": ".py",
   "mimetype": "text/x-python",
   "name": "python",
   "nbconvert_exporter": "python",
   "pygments_lexer": "ipython3",
   "version": "3.8.5"
  }
 },
 "nbformat": 4,
 "nbformat_minor": 4
}
