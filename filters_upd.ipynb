{
 "cells": [
  {
   "cell_type": "code",
   "execution_count": 2,
   "metadata": {},
   "outputs": [],
   "source": [
    "filters = ['blur', 'crop', 'pixelate', 'optimize', 'resize', 'grey', 'sepia', 'negative', 'noise', 'brightness', 'black&white']"
   ]
  },
  {
   "cell_type": "markdown",
   "metadata": {},
   "source": [
    "**blur**"
   ]
  },
  {
   "cell_type": "code",
   "execution_count": 3,
   "metadata": {},
   "outputs": [
    {
     "ename": "FileNotFoundError",
     "evalue": "[Errno 2] No such file or directory: 's_4KGHyRlxaQ_a.jpg'",
     "output_type": "error",
     "traceback": [
      "\u001b[0;31m---------------------------------------------------------------------------\u001b[0m",
      "\u001b[0;31mFileNotFoundError\u001b[0m                         Traceback (most recent call last)",
      "\u001b[0;32m<ipython-input-3-ac2ec242df32>\u001b[0m in \u001b[0;36m<module>\u001b[0;34m\u001b[0m\n\u001b[1;32m      9\u001b[0m \u001b[0;34m\u001b[0m\u001b[0m\n\u001b[1;32m     10\u001b[0m \u001b[0;31m#Open existing image\u001b[0m\u001b[0;34m\u001b[0m\u001b[0;34m\u001b[0m\u001b[0;34m\u001b[0m\u001b[0m\n\u001b[0;32m---> 11\u001b[0;31m \u001b[0mOriImage\u001b[0m \u001b[0;34m=\u001b[0m \u001b[0mImage\u001b[0m\u001b[0;34m.\u001b[0m\u001b[0mopen\u001b[0m\u001b[0;34m(\u001b[0m\u001b[0;34m's_4KGHyRlxaQ_a.jpg'\u001b[0m\u001b[0;34m)\u001b[0m\u001b[0;34m\u001b[0m\u001b[0;34m\u001b[0m\u001b[0m\n\u001b[0m\u001b[1;32m     12\u001b[0m \u001b[0mOriImage\u001b[0m\u001b[0;34m.\u001b[0m\u001b[0mshow\u001b[0m\u001b[0;34m(\u001b[0m\u001b[0;34m)\u001b[0m\u001b[0;34m\u001b[0m\u001b[0;34m\u001b[0m\u001b[0m\n\u001b[1;32m     13\u001b[0m \u001b[0mblur\u001b[0m\u001b[0;34m(\u001b[0m\u001b[0mOriImage\u001b[0m\u001b[0;34m)\u001b[0m\u001b[0;34m\u001b[0m\u001b[0;34m\u001b[0m\u001b[0m\n",
      "\u001b[0;32m/usr/local/lib/python3.8/dist-packages/PIL/Image.py\u001b[0m in \u001b[0;36mopen\u001b[0;34m(fp, mode, formats)\u001b[0m\n\u001b[1;32m   2889\u001b[0m \u001b[0;34m\u001b[0m\u001b[0m\n\u001b[1;32m   2890\u001b[0m     \u001b[0;32mif\u001b[0m \u001b[0mfilename\u001b[0m\u001b[0;34m:\u001b[0m\u001b[0;34m\u001b[0m\u001b[0;34m\u001b[0m\u001b[0m\n\u001b[0;32m-> 2891\u001b[0;31m         \u001b[0mfp\u001b[0m \u001b[0;34m=\u001b[0m \u001b[0mbuiltins\u001b[0m\u001b[0;34m.\u001b[0m\u001b[0mopen\u001b[0m\u001b[0;34m(\u001b[0m\u001b[0mfilename\u001b[0m\u001b[0;34m,\u001b[0m \u001b[0;34m\"rb\"\u001b[0m\u001b[0;34m)\u001b[0m\u001b[0;34m\u001b[0m\u001b[0;34m\u001b[0m\u001b[0m\n\u001b[0m\u001b[1;32m   2892\u001b[0m         \u001b[0mexclusive_fp\u001b[0m \u001b[0;34m=\u001b[0m \u001b[0;32mTrue\u001b[0m\u001b[0;34m\u001b[0m\u001b[0;34m\u001b[0m\u001b[0m\n\u001b[1;32m   2893\u001b[0m \u001b[0;34m\u001b[0m\u001b[0m\n",
      "\u001b[0;31mFileNotFoundError\u001b[0m: [Errno 2] No such file or directory: 's_4KGHyRlxaQ_a.jpg'"
     ]
    }
   ],
   "source": [
    "#Import required Image library\n",
    "from PIL import Image, ImageFilter\n",
    "\n",
    "def blur(image):\n",
    "    image.show()\n",
    "    blurImage = image.filter(ImageFilter.BLUR)\n",
    "    blurImage.show()\n",
    "    display(blurImage)\n",
    "\n",
    "#Open existing image\n",
    "OriImage = Image.open('s_4KGHyRlxaQ_a.jpg')\n",
    "OriImage.show()\n",
    "blur(OriImage)"
   ]
  },
  {
   "cell_type": "markdown",
   "metadata": {},
   "source": [
    "**crop**"
   ]
  },
  {
   "cell_type": "code",
   "execution_count": null,
   "metadata": {},
   "outputs": [],
   "source": [
    "from PIL import Image\n",
    "\n",
    "def crop(image, area):\n",
    "    (width, height) = image.size\n",
    "    sample_width = abs(area[0] - area[2])\n",
    "    sample_height = abs(area[1] - area[3])\n",
    "\n",
    "    if sample_width > width:\n",
    "        print('Change the width <=', width)\n",
    "    elif sample_height > height:\n",
    "        print('Change the height <=', height)\n",
    "    elif area[0] >= area[2]:\n",
    "        print('Left border must be < right border')\n",
    "    elif area[1] >= area[3]:\n",
    "        print('Upper border must be < lower border')\n",
    "    else:\n",
    "        cropped_img = img.crop(area)\n",
    "        display(cropped_img)\n",
    "    \n",
    "\n",
    "img = Image.open(\"s_4KGHyRlxaQ_a.jpg\")\n",
    "sample_area = (100, 100, 600, 500)\n",
    "# left, up, right, bottom\n",
    "crop(img, sample_area)"
   ]
  },
  {
   "cell_type": "markdown",
   "metadata": {},
   "source": [
    "**pixelate**"
   ]
  },
  {
   "cell_type": "code",
   "execution_count": null,
   "metadata": {},
   "outputs": [],
   "source": [
    "from PIL import Image\n",
    "\n",
    "def pixelate(image, pixel_size=16, draw_margin=True):\n",
    "    margin_color = (0, 0, 0)\n",
    "\n",
    "    image = image.resize((image.size[0] // pixel_size, image.size[1] // pixel_size), Image.NEAREST)\n",
    "    image = image.resize((image.size[0] * pixel_size, image.size[1] * pixel_size), Image.NEAREST)\n",
    "    pixel = image.load()\n",
    "\n",
    "    # Draw black margin between pixels\n",
    "    if draw_margin:\n",
    "        for i in range(0, image.size[0], pixel_size):\n",
    "            for j in range(0, image.size[1], pixel_size):\n",
    "                for r in range(pixel_size):\n",
    "                    pixel[i+r, j] = margin_color\n",
    "                    pixel[i, j+r] = margin_color\n",
    "\n",
    "    display(image_pixelate)\n",
    "image = Image.open(\"s_4KGHyRlxaQ_a.jpg\").convert('RGB') \n",
    "\n",
    "image_pixelate = pixelate(image)\n",
    "\n",
    "\n"
   ]
  },
  {
   "cell_type": "markdown",
   "metadata": {},
   "source": [
    "**optimize**"
   ]
  },
  {
   "cell_type": "code",
   "execution_count": null,
   "metadata": {},
   "outputs": [],
   "source": [
    "from PIL import Image\n",
    "from datetime import datetime\n",
    "\n",
    "timestamp = datetime.now().timestamp()\n",
    "\n",
    "def optimize(image):\n",
    "    image = image.convert(\"RGB\")\n",
    "    image = image.resize((1200, 750), Image.ANTIALIAS)\n",
    "    im.save(\"81.jpg\", optimize=True, quality=75)\n",
    "    display(im)\n",
    "\n",
    "im = Image.open(\"s_4KGHyRlxaQ_a.jpg\")\n",
    "optimize(im)"
   ]
  },
  {
   "cell_type": "markdown",
   "metadata": {},
   "source": [
    "**resize**"
   ]
  },
  {
   "cell_type": "code",
   "execution_count": null,
   "metadata": {},
   "outputs": [],
   "source": [
    "from PIL import Image\n",
    " \n",
    "# Меняем размер изображения на новый.\n",
    "def resize(image, size):\n",
    "    image = image.resize(size, Image.ANTIALIAS)\n",
    "    display(image)\n",
    "\n",
    "\n",
    "tatras = Image.open('s_4KGHyRlxaQ_a.jpg')\n",
    "sample_size = (200, 10)\n",
    "resize(tatras, sample_size)"
   ]
  },
  {
   "cell_type": "markdown",
   "metadata": {},
   "source": [
    "**grey**"
   ]
  },
  {
   "cell_type": "code",
   "execution_count": null,
   "metadata": {},
   "outputs": [],
   "source": [
    "\n",
    "from PIL import Image, ImageDraw\n",
    "\n",
    "def grey(image):\n",
    "    width = image.size[0]\n",
    "    height = image.size[1]\n",
    "    draw = ImageDraw.Draw(image)\n",
    "    pix = image.load()\n",
    "    for i in range(width):\n",
    "        for j in range(height):\n",
    "            a = pix[i, j][0]\n",
    "            b = pix[i, j][1]\n",
    "            c = pix[i, j][2]\n",
    "            S = (a + b + c) // 3\n",
    "            draw.point((i, j), (S, S, S))\n",
    "    display(image)\n",
    "            \n",
    "img = Image.open(\"s_4KGHyRlxaQ_a.jpg\").convert('RGB')\n",
    "grey(img)"
   ]
  },
  {
   "cell_type": "markdown",
   "metadata": {},
   "source": [
    "**sepia**"
   ]
  },
  {
   "cell_type": "code",
   "execution_count": null,
   "metadata": {},
   "outputs": [],
   "source": [
    "\n",
    "from PIL import Image, ImageDraw\n",
    "\n",
    "def sepia(image, depth):\n",
    "    width = image.size[0]\n",
    "    height = image.size[1]\n",
    "    draw = ImageDraw.Draw(image)\n",
    "    pix = image.load()\n",
    "    for i in range(width):\n",
    "        for j in range(height):\n",
    "            a = pix[i, j][0]\n",
    "            b = pix[i, j][1]\n",
    "            c = pix[i, j][2]\n",
    "            S = (a + b + c) // 3\n",
    "            a = S + depth * 2\n",
    "            b = S + depth\n",
    "            c = S\n",
    "            if (a > 255):\n",
    "                a = 255\n",
    "            if (b > 255):\n",
    "                b = 255\n",
    "            if (c > 255):\n",
    "                c = 255\n",
    "            draw.point((i, j), (a, b, c))\n",
    "    display(image)\n",
    "\n",
    "\n",
    "img = Image.open(\"s_4KGHyRlxaQ_a.jpg\").convert('RGB')\n",
    "sample_depth = 100\n",
    "sepia(img, sample_depth)\n",
    "\n"
   ]
  },
  {
   "cell_type": "markdown",
   "metadata": {},
   "source": [
    "**negative**"
   ]
  },
  {
   "cell_type": "code",
   "execution_count": null,
   "metadata": {},
   "outputs": [],
   "source": [
    "\n",
    "from PIL import Image, ImageDraw\n",
    "\n",
    "def negative(image):\n",
    "    width = image.size[0]\n",
    "    height = image.size[1]\n",
    "    draw = ImageDraw.Draw(image)\n",
    "    pix = image.load()\n",
    "    for i in range(width):\n",
    "        for j in range(height):\n",
    "            a = pix[i, j][0]\n",
    "            b = pix[i, j][1]\n",
    "            c = pix[i, j][2]\n",
    "            draw.point((i, j), (255 - a, 255 - b, 255 - c))\n",
    "    display(image)\n",
    "    \n",
    "    \n",
    "img = Image.open(\"s_4KGHyRlxaQ_a.jpg\").convert('RGB')\n",
    "negative(img)"
   ]
  },
  {
   "cell_type": "markdown",
   "metadata": {},
   "source": [
    "**noise**"
   ]
  },
  {
   "cell_type": "code",
   "execution_count": null,
   "metadata": {},
   "outputs": [],
   "source": [
    "import random\n",
    "from PIL import Image, ImageDraw\n",
    "\n",
    "def noise(image, factor):\n",
    "    width = image.size[0]\n",
    "    height = image.size[1]\n",
    "    draw = ImageDraw.Draw(image)\n",
    "    pix = image.load()\n",
    "    \n",
    "    for i in range(width):\n",
    "        for j in range(height):\n",
    "            rand = random.randint(-factor, factor)\n",
    "            a = pix[i, j][0] + rand\n",
    "            b = pix[i, j][1] + rand\n",
    "            c = pix[i, j][2] + rand\n",
    "            if (a < 0):\n",
    "                a = 0\n",
    "            if (b < 0):\n",
    "                b = 0\n",
    "            if (c < 0):\n",
    "                c = 0\n",
    "            if (a > 255):\n",
    "                a = 255\n",
    "            if (b > 255):\n",
    "                b = 255\n",
    "            if (c > 255):\n",
    "                c = 255\n",
    "            draw.point((i, j), (a, b, c))\n",
    "    display(image)\n",
    "\n",
    "\n",
    "img = Image.open(\"s_4KGHyRlxaQ_a.jpg\").convert('RGB')\n",
    "sample_factor = 100\n",
    "noise(img, sample_factor)\n",
    "\n"
   ]
  },
  {
   "cell_type": "markdown",
   "metadata": {},
   "source": [
    "**brightness**"
   ]
  },
  {
   "cell_type": "code",
   "execution_count": null,
   "metadata": {},
   "outputs": [],
   "source": [
    "import random\n",
    "from PIL import Image, ImageDraw\n",
    "\n",
    "def bright(image, factor):\n",
    "    width = image.size[0]\n",
    "    height = image.size[1]\n",
    "    draw = ImageDraw.Draw(image)\n",
    "    pix = image.load()\n",
    "    for i in range(width):\n",
    "        for j in range(height):\n",
    "            a = pix[i, j][0] + factor\n",
    "            b = pix[i, j][1] + factor\n",
    "            c = pix[i, j][2] + factor\n",
    "            if (a < 0):\n",
    "                a = 0\n",
    "            if (b < 0):\n",
    "                b = 0\n",
    "            if (c < 0):\n",
    "                c = 0\n",
    "            if (a > 255):\n",
    "                a = 255\n",
    "            if (b > 255):\n",
    "                b = 255\n",
    "            if (c > 255):\n",
    "                c = 255\n",
    "            draw.point((i, j), (a, b, c))\n",
    "\n",
    "    display(image)\n",
    "\n",
    "\n",
    "img = Image.open(\"s_4KGHyRlxaQ_a.jpg\").convert('RGB')\n",
    "sample_factor = 100\n",
    "\n",
    "bright(img, sample_factor)\n",
    "\n",
    "\n"
   ]
  },
  {
   "cell_type": "markdown",
   "metadata": {},
   "source": [
    "**black & white**"
   ]
  },
  {
   "cell_type": "code",
   "execution_count": null,
   "metadata": {},
   "outputs": [],
   "source": [
    "import random\n",
    "from PIL import Image, ImageDraw\n",
    "\n",
    "def bw(image, factor):\n",
    "    width = image.size[0]\n",
    "    height = image.size[1]\n",
    "    draw = ImageDraw.Draw(image)\n",
    "    pix = image.load()\n",
    "  \n",
    "    for i in range(width):\n",
    "        for j in range(height):\n",
    "            a = pix[i, j][0]\n",
    "            b = pix[i, j][1]\n",
    "            c = pix[i, j][2]\n",
    "            S = a + b + c\n",
    "            if (S > (((255 + factor) // 2) * 3)):\n",
    "                a, b, c = 255, 255, 255\n",
    "            else:\n",
    "                a, b, c = 0, 0, 0\n",
    "            draw.point((i, j), (a, b, c))\n",
    "\n",
    "    display(image)\n",
    "\n",
    "\n",
    "img = Image.open(\"s_4KGHyRlxaQ_a.jpg\").convert('RGB')\n",
    "sample_factor = 60\n",
    "\n",
    "bw(img,sample_factor)\n",
    "\n"
   ]
  }
 ],
 "metadata": {
  "kernelspec": {
   "display_name": "Python 3",
   "language": "python",
   "name": "python3"
  },
  "language_info": {
   "codemirror_mode": {
    "name": "ipython",
    "version": 3
   },
   "file_extension": ".py",
   "mimetype": "text/x-python",
   "name": "python",
   "nbconvert_exporter": "python",
   "pygments_lexer": "ipython3",
   "version": "3.8.5"
  }
 },
 "nbformat": 4,
 "nbformat_minor": 4
}
